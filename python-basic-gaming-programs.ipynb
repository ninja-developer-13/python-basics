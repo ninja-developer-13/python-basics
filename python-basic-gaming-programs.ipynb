{
 "cells": [
  {
   "cell_type": "markdown",
   "id": "4ac266d1-fc63-4d38-902f-b47209c269d5",
   "metadata": {},
   "source": [
    "## Developing a Number Guessing Game"
   ]
  },
  {
   "cell_type": "markdown",
   "id": "e808c6ef-5fd9-4110-8af9-c07a4fd90002",
   "metadata": {},
   "source": [
    "The Number Guessing Game is a fun activity where the computer picks a secret number, and you try to guess what that number is. The game gives you hints to help you get closer to the correct answer."
   ]
  },
  {
   "cell_type": "raw",
   "id": "9eb5a023-abae-489f-ba4f-12a615f29f14",
   "metadata": {},
   "source": [
    "#### Step 1: Generate a Random Number\n",
    "using random library generate a random number with in the specified range. Here i used lowerBound as 1. upperBound as 100\n",
    "So the random will be generated random number within 1 and 100.\n",
    "\n",
    "#### Step 2: Set Game Parameters\n",
    "lowerBound = 1\n",
    "upperBound = 100\n",
    "maxAttempts = 100\n",
    "\n",
    "#### Step 3: Loop through the guessing loop\n",
    "Initiate a loop that continues until the player guesses correctly\n",
    "for attempt in range(maxAttempts):\n",
    "    guess = int(input(f\"Guess the number between {lowerBound} and {upperBound}: \"))\n",
    "    if guess > self.randomNumber:\n",
    "        print(f\"Sorry {guess} is too high!\")\n",
    "    elif guess < self.randomNumber:\n",
    "        print(f\"Sorry {guess} is too low!\")\n",
    "    else:\n",
    "        print(f\"{guess} is correct!\")\n",
    "        break"
   ]
  },
  {
   "cell_type": "code",
   "execution_count": 15,
   "id": "4d535c55-dde8-4677-a0da-ecf53f30bd22",
   "metadata": {},
   "outputs": [
    {
     "name": "stdin",
     "output_type": "stream",
     "text": [
      "Guess the number between 1 and 100:  98\n"
     ]
    },
    {
     "name": "stdout",
     "output_type": "stream",
     "text": [
      "Sorry 98 is too high!\n"
     ]
    },
    {
     "name": "stdin",
     "output_type": "stream",
     "text": [
      "Guess the number between 1 and 100:  60\n"
     ]
    },
    {
     "name": "stdout",
     "output_type": "stream",
     "text": [
      "Sorry 60 is too high!\n"
     ]
    },
    {
     "name": "stdin",
     "output_type": "stream",
     "text": [
      "Guess the number between 1 and 100:  40\n"
     ]
    },
    {
     "name": "stdout",
     "output_type": "stream",
     "text": [
      "Sorry 40 is too low!\n"
     ]
    },
    {
     "name": "stdin",
     "output_type": "stream",
     "text": [
      "Guess the number between 1 and 100:  50\n"
     ]
    },
    {
     "name": "stdout",
     "output_type": "stream",
     "text": [
      "Sorry 50 is too low!\n"
     ]
    },
    {
     "name": "stdin",
     "output_type": "stream",
     "text": [
      "Guess the number between 1 and 100:  59\n"
     ]
    },
    {
     "name": "stdout",
     "output_type": "stream",
     "text": [
      "Sorry 59 is too high!\n"
     ]
    },
    {
     "name": "stdin",
     "output_type": "stream",
     "text": [
      "Guess the number between 1 and 100:  55\n"
     ]
    },
    {
     "name": "stdout",
     "output_type": "stream",
     "text": [
      "55 is correct!\n"
     ]
    }
   ],
   "source": [
    "import random\n",
    "lowerBound = 1\n",
    "upperBound = 100\n",
    "maxAttempts = 100\n",
    "class GuessNumberGame:\n",
    "    def __init__(self):\n",
    "        self.randomNumber = random.randint(lowerBound, upperBound)\n",
    "    def guessNumber(self):\n",
    "        #print(\"system generated number\",self.randomNumber)\n",
    "        for attempt in range(maxAttempts):\n",
    "            guess = int(input(f\"Guess the number between {lowerBound} and {upperBound}: \"))\n",
    "            if guess > self.randomNumber:\n",
    "                print(f\"Sorry {guess} is too high!\")\n",
    "            elif guess < self.randomNumber:\n",
    "                print(f\"Sorry {guess} is too low!\")\n",
    "            else:\n",
    "                print(f\"{guess} is correct!\")\n",
    "                break\n",
    "obj = GuessNumberGame()\n",
    "obj.guessNumber()\n",
    "\n"
   ]
  },
  {
   "cell_type": "markdown",
   "id": "75e71133-3497-4ff5-984c-14083437f886",
   "metadata": {},
   "source": [
    "## Building a Rock, Paper, Scissors Game"
   ]
  },
  {
   "cell_type": "markdown",
   "id": "112692fb-229e-45a9-9865-61044c4a3412",
   "metadata": {},
   "source": [
    "#### Step 1: Import random Module\n",
    "#### Step 2: Define the possible actions\n",
    "possible_actions = [\"rock\", \"paper\", \"scissors\"]"
   ]
  },
  {
   "cell_type": "code",
   "execution_count": null,
   "id": "f4768124-9f66-4ec7-b87f-bafdb53cf7c5",
   "metadata": {},
   "outputs": [],
   "source": []
  }
 ],
 "metadata": {
  "kernelspec": {
   "display_name": "Python 3 (ipykernel)",
   "language": "python",
   "name": "python3"
  },
  "language_info": {
   "codemirror_mode": {
    "name": "ipython",
    "version": 3
   },
   "file_extension": ".py",
   "mimetype": "text/x-python",
   "name": "python",
   "nbconvert_exporter": "python",
   "pygments_lexer": "ipython3",
   "version": "3.12.4"
  }
 },
 "nbformat": 4,
 "nbformat_minor": 5
}
