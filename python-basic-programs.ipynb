{
 "cells": [
  {
   "cell_type": "markdown",
   "id": "a4ceffb5-15ad-48ee-ac18-c211160c1c98",
   "metadata": {},
   "source": [
    "#### This repository contains a collection of basic Python programs designed to help beginners understand fundamental programming concepts and practice coding. Each program demonstrates different aspects of Python, such as functions, data structures, file handling, and user interaction.\n"
   ]
  },
  {
   "cell_type": "markdown",
   "id": "a7604132-39ef-458a-8aeb-34e69fbdb153",
   "metadata": {},
   "source": [
    "## Sum of Two Numbers"
   ]
  },
  {
   "cell_type": "markdown",
   "id": "ae33388c-d7e9-49d5-b6cb-3cbed3458395",
   "metadata": {},
   "source": [
    "##### The \"Sum of Two Numbers\" is a basic arithmetic operation that involves adding two numerical values together to obtain a total. The operation can be represented mathematically as:\n",
    "\n",
    "Sum=a+b\n",
    "\n",
    "where \n",
    "𝑎\n",
    "a and \n",
    "𝑏\n",
    "b are the two numbers being added. This concept is foundational in mathematics and is used in various applications, from simple calculations to complex problem-solving in fields like science, engineering, and finance."
   ]
  },
  {
   "cell_type": "code",
   "execution_count": 2,
   "id": "d74498a7-79a2-454d-a805-e8120c21bc7c",
   "metadata": {},
   "outputs": [
    {
     "name": "stdin",
     "output_type": "stream",
     "text": [
      "Enter the first number:  12\n",
      "Enter the second number:  32\n"
     ]
    },
    {
     "name": "stdout",
     "output_type": "stream",
     "text": [
      "Sum of two numbers:  44\n"
     ]
    }
   ],
   "source": [
    "a = int(input(\"Enter the first number: \"))\n",
    "b = int(input(\"Enter the second number: \"))\n",
    "class Numbers:\n",
    "    def __init__(self, a, b):\n",
    "        self.a = a\n",
    "        self.b = b\n",
    "    def sumOfNumbers(self):\n",
    "        sumOf = self.a +self.b\n",
    "        print(\"Sum of two numbers: \", sumOf)\n",
    "obj = Numbers(a,b)\n",
    "obj.sumOfNumbers()"
   ]
  },
  {
   "cell_type": "markdown",
   "id": "66477eff-30f4-4a51-ba81-7d34e8ec18f4",
   "metadata": {},
   "source": [
    "## Remove Duplicates from List"
   ]
  },
  {
   "cell_type": "markdown",
   "id": "e04571f6-6d69-433e-8ac6-14a69ceedb55",
   "metadata": {},
   "source": [
    "##### Remove Duplicates from List\" refers to the process of identifying and eliminating duplicate values within a list or collection, ensuring that each element appears only once. This operation is commonly used in programming and data management to maintain data integrity and optimize storage."
   ]
  },
  {
   "cell_type": "code",
   "execution_count": 5,
   "id": "55f65753-baf8-4327-bce4-ce0a5c0bcef4",
   "metadata": {},
   "outputs": [
    {
     "name": "stdout",
     "output_type": "stream",
     "text": [
      "[1, 2, 4, 5, 7]\n",
      "using dict:  [1, 2, 4, 5, 7]\n",
      "using list comprehension:  [1, 2, 4, 5, 7]\n",
      "using for:  [1, 2, 4, 5, 7]\n"
     ]
    }
   ],
   "source": [
    "#method1\n",
    "# convert the list into set and convert again into list\n",
    "myList = [1,2,2,4,4,5,5,5,7]\n",
    "removeDuplicates = set(myList)\n",
    "print(list(removeDuplicates))\n",
    "\n",
    "#method2\n",
    "myDict = list(dict.fromkeys(myList))\n",
    "print(\"using dict: \",myDict)\n",
    "\n",
    "#method3 using list comprehension\n",
    "seen = set()\n",
    "myNewList = [x for x in myList if not (x in seen or seen.add(x))]\n",
    "print(\"using list comprehension: \",myNewList)\n",
    "\n",
    "#method4 using for\n",
    "def remove_duplicates(myList):\n",
    "    unique_list = []\n",
    "    for item in myList:\n",
    "        if item not in unique_list:\n",
    "            unique_list.append(item)\n",
    "    return unique_list\n",
    "\n",
    "result = remove_duplicates(myList)\n",
    "print(\"using for: \",result)  # Output: [1, 2, 3, 4, 5]\n"
   ]
  },
  {
   "cell_type": "markdown",
   "id": "15bbced0-a0e6-4259-b6bc-2558d3fc6f24",
   "metadata": {},
   "source": [
    "## Reverse String Program"
   ]
  },
  {
   "cell_type": "markdown",
   "id": "744d4b91-7857-4294-85a6-267548611062",
   "metadata": {},
   "source": [
    "A \"Reverse String Program\" is a simple algorithm that takes a string as input and returns the string in reverse order. This operation is often used in programming exercises to practice string manipulation and understanding of data structures.\n",
    "\n",
    "Basic Concept:\n",
    "To reverse a string, you can iterate through the string from the last character to the first and build a new string from those characters."
   ]
  },
  {
   "cell_type": "code",
   "execution_count": 8,
   "id": "582dbf5c-4a23-4e6a-a38a-aad910419561",
   "metadata": {},
   "outputs": [
    {
     "name": "stdin",
     "output_type": "stream",
     "text": [
      "Enter a string:  prabakaran\n"
     ]
    },
    {
     "name": "stdout",
     "output_type": "stream",
     "text": [
      "The reversed String:  narakabarp\n"
     ]
    }
   ],
   "source": [
    "a = str(input(\"Enter a string: \"))\n",
    "class StringReverse:\n",
    "    def __init__(self, string):\n",
    "        self.string = string\n",
    "    def reverse(self):\n",
    "        #return self.string[::-1]\n",
    "        reversed_s = \"\"\n",
    "        stringLength = len(self.string)\n",
    "        for i in range(stringLength - 1, -1, -1):\n",
    "            reversed_s += self.string[i]\n",
    "        return reversed_s\n",
    "\n",
    "\n",
    "obj = StringReverse(a)\n",
    "print(\"The reversed String: \",obj.reverse())\n"
   ]
  },
  {
   "cell_type": "markdown",
   "id": "b35615aa-767e-45cf-904b-56f0b767ac78",
   "metadata": {},
   "source": [
    "## Prime number program"
   ]
  },
  {
   "cell_type": "markdown",
   "id": "d138c08d-3f5b-4bc7-a1d4-98c24956afed",
   "metadata": {},
   "source": [
    "A \"Prime Number\" is designed to determine whether a given number is prime, or to generate a list of prime numbers within a specified range. A prime number is a natural number greater than 1 that has no positive divisors other than 1 and itself."
   ]
  },
  {
   "cell_type": "code",
   "execution_count": 13,
   "id": "cd5cb345-499c-45c7-970e-bec1fe198dd7",
   "metadata": {},
   "outputs": [
    {
     "name": "stdin",
     "output_type": "stream",
     "text": [
      "Enter a number:  7\n"
     ]
    },
    {
     "name": "stdout",
     "output_type": "stream",
     "text": [
      "The given number is prime\n"
     ]
    }
   ],
   "source": [
    "\"\"\"\n",
    "A prime number is a number that can only be divided by\n",
    "itself and 1 without remainders.\n",
    "\"\"\"\n",
    "from operator import truediv\n",
    "\n",
    "a = int(input(\"Enter a number: \"))\n",
    "class CheckPrime:\n",
    "    def __init__(self, a):\n",
    "        self.a = a\n",
    "\n",
    "    def checkIfPrime(self):\n",
    "        flag = False\n",
    "        if self.a > 1:\n",
    "            for i in range(2,self.a):\n",
    "                if self.a %i == 0:\n",
    "                    return False\n",
    "            return True\n",
    "\n",
    "obj = CheckPrime(a)\n",
    "if obj.checkIfPrime():\n",
    "    print(\"The given number is prime\")\n",
    "else:\n",
    "    print(\"The given number is not a prime\")"
   ]
  },
  {
   "cell_type": "markdown",
   "id": "c4e64e93-898c-4a5a-863f-e1e0b2ba438c",
   "metadata": {},
   "source": [
    "## Check the number  if it is positive or negative"
   ]
  },
  {
   "cell_type": "markdown",
   "id": "4bad0b0b-ada0-4d0e-ac7c-dcf537027cc5",
   "metadata": {},
   "source": [
    "A program to check if a number is positive or negative determines the sign of a given integer or floating-point number. This operation is useful in various applications, from simple calculations to more complex logic in programs."
   ]
  },
  {
   "cell_type": "code",
   "execution_count": 16,
   "id": "304b399b-f9c5-4ec5-b995-8873b6699889",
   "metadata": {},
   "outputs": [
    {
     "name": "stdin",
     "output_type": "stream",
     "text": [
      "Enter a number:  -111212\n"
     ]
    },
    {
     "name": "stdout",
     "output_type": "stream",
     "text": [
      "The number is negative\n"
     ]
    }
   ],
   "source": [
    "a = int(input(\"Enter a number: \"))\n",
    "class Number:\n",
    "    def __init__(self, a):\n",
    "        self.a = a\n",
    "    def checkPositiveOrNegative(self):\n",
    "        if self.a > 0:\n",
    "            print(\"The number is positive\")\n",
    "        elif self.a < 0:\n",
    "            print(\"The number is negative\")\n",
    "        elif self.a == 0:\n",
    "            print(\"The number is zero\")\n",
    "obj = Number(a)\n",
    "obj.checkPositiveOrNegative()"
   ]
  },
  {
   "cell_type": "markdown",
   "id": "28216d11-9971-473d-80ff-57f3011d54fc",
   "metadata": {},
   "source": [
    "## Polindrom Program"
   ]
  },
  {
   "cell_type": "markdown",
   "id": "e71d132e-ab19-4331-baef-9871071928ad",
   "metadata": {},
   "source": [
    "A \"Palindrome\" checks whether a given string, number, or sequence reads the same forwards and backwards. Palindromes are commonly found in various forms, such as words (\"racecar\"), phrases (\"A man, a plan, a canal, Panama!\"), and numbers (121)."
   ]
  },
  {
   "cell_type": "code",
   "execution_count": 21,
   "id": "2bfbfd26-9b20-4897-8e12-5eb14a9783d6",
   "metadata": {},
   "outputs": [
    {
     "name": "stdin",
     "output_type": "stream",
     "text": [
      "Enter a number:  1991\n"
     ]
    },
    {
     "name": "stdout",
     "output_type": "stream",
     "text": [
      "The given number is Polindrome\n"
     ]
    }
   ],
   "source": [
    "a = int(input(\"Enter a number: \"))\n",
    "class CheckPol:\n",
    "    def __init__(self,a):\n",
    "        self.a = a\n",
    "    def checkPolNumber(self):\n",
    "        temp = self.a\n",
    "        reverse = 0\n",
    "        while temp > 0:\n",
    "            remainder = temp % 10\n",
    "            #to extract last digit\n",
    "            reverse = (reverse*10) + remainder\n",
    "            temp //= 10\n",
    "        return reverse\n",
    "obj = CheckPol(a)\n",
    "reverseNum = obj.checkPolNumber()\n",
    "if a == reverseNum:\n",
    "    print(\"The given number is Polindrome\")\n",
    "else:\n",
    "    print(\"The given number is not Polindrome\")"
   ]
  },
  {
   "cell_type": "markdown",
   "id": "2624e5b0-f440-4cdd-9f64-6331e857ad64",
   "metadata": {},
   "source": [
    "## Find ODD or EVEN from the given input"
   ]
  },
  {
   "cell_type": "markdown",
   "id": "ea780dd3-c078-44a1-95b5-63b10dc24f5c",
   "metadata": {},
   "source": [
    "A program to determine whether a given integer is odd or even checks the number's divisibility by 2. An even number is divisible by 2 without a remainder, while an odd number has a remainder of 1 when divided by 2."
   ]
  },
  {
   "cell_type": "code",
   "execution_count": 24,
   "id": "ca80c3eb-bdd5-40b4-acd0-9ffdc3c98617",
   "metadata": {},
   "outputs": [
    {
     "name": "stdin",
     "output_type": "stream",
     "text": [
      "Enter the number:  2\n"
     ]
    },
    {
     "name": "stdout",
     "output_type": "stream",
     "text": [
      "The given number is an even number.\n"
     ]
    }
   ],
   "source": [
    "a = int(input(\"Enter the number: \"))\n",
    "class Number:\n",
    "    def __init__(self, a):\n",
    "        self.a = a\n",
    "    def checkOddorEven(self):\n",
    "        if self.a % 2 == 0:\n",
    "            print(\"The given number is an even number.\")\n",
    "        else:\n",
    "            print(\"The given number is an odd number.\")\n",
    "\n",
    "\n",
    "obj = Number(a)\n",
    "obj.checkOddorEven()\n"
   ]
  },
  {
   "cell_type": "markdown",
   "id": "b127724d-0f09-427b-b5f5-5120a9157cf5",
   "metadata": {},
   "source": [
    "## Find minimum number"
   ]
  },
  {
   "cell_type": "markdown",
   "id": "91554144-349f-436e-a3c7-d4114040894c",
   "metadata": {},
   "source": [
    "A program to find the minimum number from a given list or set of numbers identifies the smallest value among the inputs. This operation is fundamental in data analysis and is widely used in various applications."
   ]
  },
  {
   "cell_type": "code",
   "execution_count": 27,
   "id": "47fd0050-bad8-44dc-b65d-157e3c8bd2f7",
   "metadata": {},
   "outputs": [
    {
     "name": "stdin",
     "output_type": "stream",
     "text": [
      "Enter a number:  10\n",
      "Enter a second number:  11\n"
     ]
    },
    {
     "name": "stdout",
     "output_type": "stream",
     "text": [
      "10 is smaller number\n"
     ]
    }
   ],
   "source": [
    "a = int(input(\"Enter a number: \"))\n",
    "b = int(input(\"Enter a second number: \"))\n",
    "class MinNum:\n",
    "    def __init__(self, a, b):\n",
    "        self.a = a\n",
    "        self.b = b\n",
    "    def findMinNumber(self):\n",
    "        if self.a <= self.b:\n",
    "            print(self.a, \"is smaller number\")\n",
    "        else:\n",
    "            print(self.b, \"is smaller number\")\n",
    "obj = MinNum(a, b)\n",
    "number = obj.findMinNumber()\n",
    "\n"
   ]
  },
  {
   "cell_type": "markdown",
   "id": "113daf7c-5926-4e7d-896e-86080ed98148",
   "metadata": {},
   "source": [
    "## Find minimum of three numbers"
   ]
  },
  {
   "cell_type": "code",
   "execution_count": 30,
   "id": "82a34394-b20e-404b-9f8d-db2823bdfbff",
   "metadata": {},
   "outputs": [
    {
     "name": "stdin",
     "output_type": "stream",
     "text": [
      "Enter a first number:  100\n",
      "Enter a second number:  -10\n",
      "Enter a third number:  1\n"
     ]
    },
    {
     "name": "stdout",
     "output_type": "stream",
     "text": [
      "The min of three numbers:  -10\n"
     ]
    }
   ],
   "source": [
    "a = int(input(\"Enter a first number: \"))\n",
    "b = int(input(\"Enter a second number: \"))\n",
    "c = int(input(\"Enter a third number: \"))\n",
    "class MinNum:\n",
    "    def __init__(self, a, b, c):\n",
    "        self.a = a\n",
    "        self.b = b\n",
    "        self.c = c\n",
    "    def findMinOfThree(self):\n",
    "        if self.a <= self.b and self.a <= self.c:\n",
    "            smallest = self.a\n",
    "        elif self.b <= self.a and self.b <= self.c:\n",
    "            smallest = self.b\n",
    "        else:\n",
    "            smallest = self.c\n",
    "        return smallest\n",
    "\n",
    "obj = MinNum(a, b, c)\n",
    "number = obj.findMinOfThree()\n",
    "print(\"The min of three numbers: \", number)\n"
   ]
  },
  {
   "cell_type": "markdown",
   "id": "da85fceb-efc8-42b4-b94c-50a70efaa5fc",
   "metadata": {},
   "source": [
    "## Find Maximum of two numbers"
   ]
  },
  {
   "cell_type": "code",
   "execution_count": 33,
   "id": "efdf08df-3110-4de7-9960-ca9426daa2f8",
   "metadata": {},
   "outputs": [
    {
     "name": "stdin",
     "output_type": "stream",
     "text": [
      "Enter a number:  998\n",
      "Enter a second number:  76\n"
     ]
    },
    {
     "name": "stdout",
     "output_type": "stream",
     "text": [
      "998 is greater number\n"
     ]
    }
   ],
   "source": [
    "a = int(input(\"Enter a number: \"))\n",
    "b = int(input(\"Enter a second number: \"))\n",
    "class MaxNum:\n",
    "    def __init__(self, a, b):\n",
    "        self.a = a\n",
    "        self.b = b\n",
    "    def findMaxNumber(self):\n",
    "        if self.a >= self.b:\n",
    "            print(self.a, \"is greater number\")\n",
    "        else:\n",
    "            print(self.b, \"is greater number\")\n",
    "obj = MaxNum(a, b)\n",
    "number = obj.findMaxNumber()\n",
    "\n"
   ]
  },
  {
   "cell_type": "markdown",
   "id": "b8ccfa29-1b0f-4a7b-ad59-d442c4719e30",
   "metadata": {},
   "source": [
    "## Find Maximum of three numbers"
   ]
  },
  {
   "cell_type": "code",
   "execution_count": 40,
   "id": "8c2ede7e-2fa8-4f80-9111-313b721b13cd",
   "metadata": {},
   "outputs": [
    {
     "name": "stdin",
     "output_type": "stream",
     "text": [
      "Enter a number:  10\n",
      "Enter a second number:  11\n",
      "Enter a third number:  32\n"
     ]
    },
    {
     "name": "stdout",
     "output_type": "stream",
     "text": [
      "The max of three numbers:  32\n"
     ]
    }
   ],
   "source": [
    "a = int(input(\"Enter a number: \"))\n",
    "b = int(input(\"Enter a second number: \"))\n",
    "c = int(input(\"Enter a third number: \"))\n",
    "class MaxNum:\n",
    "    def __init__(self, a, b, c):\n",
    "        self.a = a\n",
    "        self.b = b\n",
    "        self.c = c\n",
    "    def findMaxOfThree(self):\n",
    "        if self.a >= self.b and self.a >= self.c:\n",
    "            largest = self.a\n",
    "        elif self.b >= self.a and self.b >= self.c:\n",
    "            largest = self.b\n",
    "        else:\n",
    "            largest = self.c\n",
    "        return largest\n",
    "\n",
    "obj = MaxNum(a, b, c)\n",
    "number = obj.findMaxOfThree()\n",
    "print(\"The max of three numbers: \", number)\n"
   ]
  },
  {
   "cell_type": "markdown",
   "id": "7fe5d590-9e34-422b-b861-dade27800b0f",
   "metadata": {},
   "source": [
    "## Write a fibanacci program"
   ]
  },
  {
   "cell_type": "markdown",
   "id": "67ce7223-41ee-4f0f-b21e-09d41fe65c5f",
   "metadata": {},
   "source": [
    "A Fibonacci program generates a sequence of numbers in which each number is the sum of the two preceding ones, starting from 0 and 1. The Fibonacci sequence typically begins as follows: 0, 1, 1, 2, 3, 5, 8, 13, and so on."
   ]
  },
  {
   "cell_type": "code",
   "execution_count": 43,
   "id": "ce951870-65d7-4ef3-8257-cb8d2591e7ec",
   "metadata": {},
   "outputs": [
    {
     "name": "stdin",
     "output_type": "stream",
     "text": [
      "Enter the number of terms in the Fibonacci sequence:  5\n"
     ]
    },
    {
     "name": "stdout",
     "output_type": "stream",
     "text": [
      "0 1 1 2 3 "
     ]
    }
   ],
   "source": [
    "def fibonacci(n):\n",
    "    a, b = 0, 1  # Starting values\n",
    "    for i in range(n):\n",
    "        print(a, end=' ')  # Print the current number\n",
    "        a, b = b, a + b  # Update to the next two Fibonacci numbers\n",
    "\n",
    "# Input from the user\n",
    "num_terms = int(input(\"Enter the number of terms in the Fibonacci sequence: \"))\n",
    "fibonacci(num_terms)"
   ]
  },
  {
   "cell_type": "markdown",
   "id": "45f10dbb-68c8-425f-bc75-15272061df4b",
   "metadata": {},
   "source": [
    "## Check whether the given string is anagram or not"
   ]
  },
  {
   "cell_type": "markdown",
   "id": "e2d32a25-f864-4e91-9bfd-3e45693a061c",
   "metadata": {},
   "source": [
    "An anagram is a word or phrase formed by rearranging the letters of another, using all the original letters exactly once. To check if two strings are anagrams, you can compare the frequency of each character in both strings.\n",
    "\n"
   ]
  },
  {
   "cell_type": "code",
   "execution_count": 46,
   "id": "ee9eb983-3729-4c74-b84a-91693cbc2376",
   "metadata": {},
   "outputs": [
    {
     "name": "stdin",
     "output_type": "stream",
     "text": [
      "Enter string1:  silent\n",
      "Enter string2:  listen\n"
     ]
    },
    {
     "name": "stdout",
     "output_type": "stream",
     "text": [
      "The strings are anagrams.\n"
     ]
    }
   ],
   "source": [
    "def check(s1, s2):\n",
    "    if (sorted(s1) == sorted(s2)):\n",
    "        print(\"The strings are anagrams.\")\n",
    "    else:\n",
    "        print(\"The strings aren't anagrams.\")\n",
    "\n",
    "\n",
    "s1 = input(\"Enter string1: \")\n",
    "# input1: \"listen\"\n",
    "s2 = input(\"Enter string2: \")\n",
    "# input2: \"silent\"\n",
    "check(s1, s2)\n",
    "# Output: the strings are anagrams."
   ]
  },
  {
   "cell_type": "markdown",
   "id": "1544aa74-4901-4e0b-b0de-783b459716d9",
   "metadata": {},
   "source": [
    "## Check whether the given number is armstrong or not"
   ]
  },
  {
   "cell_type": "markdown",
   "id": "4ba6d163-af03-45a3-9271-df75af31e402",
   "metadata": {},
   "source": [
    "##### An Armstrong number (or narcissistic number) is a number that is equal to the sum of its own digits each raised to the power of the number of digits."
   ]
  },
  {
   "cell_type": "code",
   "execution_count": 49,
   "id": "73a0a338-774e-4d59-a746-16345fadead8",
   "metadata": {},
   "outputs": [
    {
     "name": "stdin",
     "output_type": "stream",
     "text": [
      "Enter a number:  407\n"
     ]
    },
    {
     "name": "stdout",
     "output_type": "stream",
     "text": [
      "407 is armstrong\n"
     ]
    }
   ],
   "source": [
    "a = int(input(\"Enter a number: \"))\n",
    "class ArmstrongNum:\n",
    "    def __init__(self, a):\n",
    "        self.a = a\n",
    "    def isArmstrong(self):\n",
    "        sum = 0\n",
    "        temp = self.a\n",
    "        while temp > 0:\n",
    "            digit = temp % 10\n",
    "            sum += digit ** len(str(self.a))\n",
    "            temp //= 10\n",
    "        return sum\n",
    "obj = ArmstrongNum(a)\n",
    "armstrong = obj.isArmstrong()\n",
    "if a == armstrong:\n",
    "    print(a, \"is armstrong\")\n",
    "else:\n",
    "    print(a, \"is not armstrong\")\n"
   ]
  },
  {
   "cell_type": "code",
   "execution_count": null,
   "id": "d95d7faf-c125-4251-acd5-339b16798d4d",
   "metadata": {},
   "outputs": [],
   "source": []
  }
 ],
 "metadata": {
  "kernelspec": {
   "display_name": "Python 3 (ipykernel)",
   "language": "python",
   "name": "python3"
  },
  "language_info": {
   "codemirror_mode": {
    "name": "ipython",
    "version": 3
   },
   "file_extension": ".py",
   "mimetype": "text/x-python",
   "name": "python",
   "nbconvert_exporter": "python",
   "pygments_lexer": "ipython3",
   "version": "3.12.4"
  }
 },
 "nbformat": 4,
 "nbformat_minor": 5
}
